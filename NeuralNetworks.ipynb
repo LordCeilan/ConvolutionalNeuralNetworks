{
 "cells": [
  {
   "cell_type": "markdown",
   "source": [
    "## Chapter 1"
   ],
   "metadata": {
    "collapsed": false
   }
  },
  {
   "cell_type": "markdown",
   "source": [
    "# Introducing Neural Networks"
   ],
   "metadata": {
    "collapsed": false
   }
  },
  {
   "cell_type": "code",
   "execution_count": 20,
   "outputs": [
    {
     "ename": "TypeError",
     "evalue": "'set' object is not subscriptable",
     "output_type": "error",
     "traceback": [
      "\u001B[0;31m---------------------------------------------------------------------------\u001B[0m",
      "\u001B[0;31mTypeError\u001B[0m                                 Traceback (most recent call last)",
      "Cell \u001B[0;32mIn[20], line 7\u001B[0m\n\u001B[1;32m      5\u001B[0m output \u001B[38;5;241m=\u001B[39m {}\n\u001B[1;32m      6\u001B[0m \u001B[38;5;28;01mfor\u001B[39;00m an_input \u001B[38;5;129;01min\u001B[39;00m inputs:\n\u001B[0;32m----> 7\u001B[0m     output[count] \u001B[38;5;241m=\u001B[39m \u001B[38;5;28msum\u001B[39m(inputs \u001B[38;5;241m*\u001B[39m \u001B[43mweights\u001B[49m\u001B[43m[\u001B[49m\u001B[43mcount\u001B[49m\u001B[43m]\u001B[49m) \u001B[38;5;241m+\u001B[39m bias\n\u001B[1;32m      8\u001B[0m     count \u001B[38;5;241m+\u001B[39m\u001B[38;5;241m=\u001B[39m \u001B[38;5;241m1\u001B[39m\n",
      "\u001B[0;31mTypeError\u001B[0m: 'set' object is not subscriptable"
     ]
    }
   ],
   "source": [
    "inputs = {0.1 ,0.2 ,0.3 ,0.4 ,0.5}\n",
    "weights = {0.1 ,0.2 ,0.5 ,0.4 ,0.2}\n",
    "bias = 10\n",
    "count = 0\n",
    "output = {}\n",
    "\n",
    "for an_input in inputs:\n",
    "    output[count] = sum(inputs * weights[count]) + bias\n",
    "    count += 1"
   ],
   "metadata": {
    "collapsed": false,
    "ExecuteTime": {
     "end_time": "2023-12-29T18:56:03.124871Z",
     "start_time": "2023-12-29T18:56:03.109986Z"
    }
   }
  },
  {
   "cell_type": "markdown",
   "source": [
    "$$\n",
    "  \\int_0^\\infty \\frac{x^3}{e^x-1}\\,dx = \\frac{\\pi^4}{15}\n",
    "$$\n"
   ],
   "metadata": {
    "collapsed": false
   }
  },
  {
   "cell_type": "markdown",
   "source": [
    "$$\n",
    "    \\frac{e^\\sum_{i=1}^n}{\\sum_{i=1} e^\\sum_{k=1}^n}\n",
    "$$"
   ],
   "metadata": {
    "collapsed": false
   }
  },
  {
   "cell_type": "markdown",
   "source": [
    "**The Cauchy-Schwarz Inequality**\n",
    "$$\\left( \\sum_{k=1}^n a_k b_k \\right)^2 \\leq \\left( \\sum_{k=1}^n a_k^2 \\right) \\left( \\sum_{k=1}^n b_k^2 \\right)$$"
   ],
   "metadata": {
    "collapsed": false
   }
  },
  {
   "cell_type": "code",
   "execution_count": null,
   "outputs": [],
   "source": [],
   "metadata": {
    "collapsed": false
   }
  }
 ],
 "metadata": {
  "kernelspec": {
   "display_name": "Python 3",
   "language": "python",
   "name": "python3"
  },
  "language_info": {
   "codemirror_mode": {
    "name": "ipython",
    "version": 2
   },
   "file_extension": ".py",
   "mimetype": "text/x-python",
   "name": "python",
   "nbconvert_exporter": "python",
   "pygments_lexer": "ipython2",
   "version": "2.7.6"
  }
 },
 "nbformat": 4,
 "nbformat_minor": 0
}
