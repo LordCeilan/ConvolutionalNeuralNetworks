{
 "cells": [
  {
   "cell_type": "markdown",
   "source": [
    "## Chapter 1"
   ],
   "metadata": {
    "collapsed": false
   }
  },
  {
   "cell_type": "markdown",
   "source": [
    "# Introducing Neural Networks"
   ],
   "metadata": {
    "collapsed": false
   }
  },
  {
   "cell_type": "code",
   "execution_count": 2,
   "outputs": [
    {
     "ename": "TypeError",
     "evalue": "'set' object is not subscriptable",
     "output_type": "error",
     "traceback": [
      "\u001B[0;31m---------------------------------------------------------------------------\u001B[0m",
      "\u001B[0;31mTypeError\u001B[0m                                 Traceback (most recent call last)",
      "Cell \u001B[0;32mIn[2], line 7\u001B[0m\n\u001B[1;32m      4\u001B[0m count \u001B[38;5;241m=\u001B[39m \u001B[38;5;241m0\u001B[39m\n\u001B[1;32m      6\u001B[0m \u001B[38;5;28;01mfor\u001B[39;00m an_input \u001B[38;5;129;01min\u001B[39;00m inputs:\n\u001B[0;32m----> 7\u001B[0m     output[count] \u001B[38;5;241m=\u001B[39m \u001B[38;5;28msum\u001B[39m(inputs \u001B[38;5;241m*\u001B[39m \u001B[43mweights\u001B[49m\u001B[43m[\u001B[49m\u001B[43mcount\u001B[49m\u001B[43m]\u001B[49m) \u001B[38;5;241m+\u001B[39m bias\n\u001B[1;32m      8\u001B[0m     count \u001B[38;5;241m+\u001B[39m\u001B[38;5;241m=\u001B[39m \u001B[38;5;241m1\u001B[39m\n\u001B[1;32m     11\u001B[0m output \u001B[38;5;241m=\u001B[39m \u001B[38;5;28msum\u001B[39m(inputs \u001B[38;5;241m*\u001B[39m weights) \u001B[38;5;241m+\u001B[39m bias\n",
      "\u001B[0;31mTypeError\u001B[0m: 'set' object is not subscriptable"
     ]
    }
   ],
   "source": [
    "inputs = {0.1 ,0.2 ,0.3 ,0.4 ,0.5}\n",
    "weights = {0.1 ,0.2 ,0.5 ,0.4 ,0.2}\n",
    "bias = 10\n",
    "count = 0\n",
    "\n",
    "for an_input in inputs:\n",
    "    output[count] = sum(inputs * weights[count]) + bias\n",
    "    count += 1\n",
    "\n",
    "\n",
    "output = sum(inputs * weights) + bias"
   ],
   "metadata": {
    "collapsed": false,
    "ExecuteTime": {
     "end_time": "2023-12-29T18:01:49.737652Z",
     "start_time": "2023-12-29T18:01:49.722016Z"
    }
   }
  },
  {
   "cell_type": "code",
   "execution_count": null,
   "outputs": [],
   "source": [],
   "metadata": {
    "collapsed": false
   }
  }
 ],
 "metadata": {
  "kernelspec": {
   "display_name": "Python 3",
   "language": "python",
   "name": "python3"
  },
  "language_info": {
   "codemirror_mode": {
    "name": "ipython",
    "version": 2
   },
   "file_extension": ".py",
   "mimetype": "text/x-python",
   "name": "python",
   "nbconvert_exporter": "python",
   "pygments_lexer": "ipython2",
   "version": "2.7.6"
  }
 },
 "nbformat": 4,
 "nbformat_minor": 0
}
